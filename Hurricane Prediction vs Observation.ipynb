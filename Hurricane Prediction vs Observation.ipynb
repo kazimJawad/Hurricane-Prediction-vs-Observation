{
 "cells": [
  {
   "cell_type": "markdown",
   "id": "50086bf0",
   "metadata": {
    "papermill": {
     "duration": 0.007619,
     "end_time": "2022-09-01T08:25:55.612652",
     "exception": false,
     "start_time": "2022-09-01T08:25:55.605033",
     "status": "completed"
    },
    "tags": []
   },
   "source": [
    "# DataSet 1: irma_fort_myers_win.txt"
   ]
  },
  {
   "cell_type": "code",
   "execution_count": 1,
   "id": "64e5e4b4",
   "metadata": {
    "_cell_guid": "b1076dfc-b9ad-4769-8c92-a6c4dae69d19",
    "_uuid": "8f2839f25d086af736a60e9eeb907d3b93b6e0e5",
    "execution": {
     "iopub.execute_input": "2022-09-01T08:25:55.627922Z",
     "iopub.status.busy": "2022-09-01T08:25:55.627426Z",
     "iopub.status.idle": "2022-09-01T08:25:55.688585Z",
     "shell.execute_reply": "2022-09-01T08:25:55.687814Z"
    },
    "papermill": {
     "duration": 0.072514,
     "end_time": "2022-09-01T08:25:55.691823",
     "exception": false,
     "start_time": "2022-09-01T08:25:55.619309",
     "status": "completed"
    },
    "tags": []
   },
   "outputs": [
    {
     "data": {
      "text/html": [
       "<div>\n",
       "<style scoped>\n",
       "    .dataframe tbody tr th:only-of-type {\n",
       "        vertical-align: middle;\n",
       "    }\n",
       "\n",
       "    .dataframe tbody tr th {\n",
       "        vertical-align: top;\n",
       "    }\n",
       "\n",
       "    .dataframe thead th {\n",
       "        text-align: right;\n",
       "    }\n",
       "</style>\n",
       "<table border=\"1\" class=\"dataframe\">\n",
       "  <thead>\n",
       "    <tr style=\"text-align: right;\">\n",
       "      <th></th>\n",
       "      <th>#Date</th>\n",
       "      <th>Time</th>\n",
       "      <th>Prediction(m)</th>\n",
       "      <th>WaterLevel(m)</th>\n",
       "    </tr>\n",
       "  </thead>\n",
       "  <tbody>\n",
       "    <tr>\n",
       "      <th>0</th>\n",
       "      <td>9/1/17</td>\n",
       "      <td>0:00</td>\n",
       "      <td>0.083</td>\n",
       "      <td>0.183</td>\n",
       "    </tr>\n",
       "    <tr>\n",
       "      <th>1</th>\n",
       "      <td>9/1/17</td>\n",
       "      <td>0:06</td>\n",
       "      <td>0.081</td>\n",
       "      <td>0.183</td>\n",
       "    </tr>\n",
       "    <tr>\n",
       "      <th>2</th>\n",
       "      <td>9/1/17</td>\n",
       "      <td>0:12</td>\n",
       "      <td>0.080</td>\n",
       "      <td>0.185</td>\n",
       "    </tr>\n",
       "    <tr>\n",
       "      <th>3</th>\n",
       "      <td>9/1/17</td>\n",
       "      <td>0:18</td>\n",
       "      <td>0.079</td>\n",
       "      <td>0.185</td>\n",
       "    </tr>\n",
       "    <tr>\n",
       "      <th>4</th>\n",
       "      <td>9/1/17</td>\n",
       "      <td>0:24</td>\n",
       "      <td>0.078</td>\n",
       "      <td>0.184</td>\n",
       "    </tr>\n",
       "  </tbody>\n",
       "</table>\n",
       "</div>"
      ],
      "text/plain": [
       "    #Date  Time  Prediction(m)  WaterLevel(m)\n",
       "0  9/1/17  0:00          0.083          0.183\n",
       "1  9/1/17  0:06          0.081          0.183\n",
       "2  9/1/17  0:12          0.080          0.185\n",
       "3  9/1/17  0:18          0.079          0.185\n",
       "4  9/1/17  0:24          0.078          0.184"
      ]
     },
     "execution_count": 1,
     "metadata": {},
     "output_type": "execute_result"
    }
   ],
   "source": [
    "# import libraries\n",
    "import pandas as pd\n",
    "import matplotlib.pyplot as plt\n",
    "\n",
    "# import text datafile into pandas dataframe\n",
    "df = pd.read_csv('../input/hurricane-prediction/irma_fort_myers_win.txt', sep=\"\\s+\", engine='python')\n",
    "df.head()"
   ]
  },
  {
   "cell_type": "markdown",
   "id": "5d76c338",
   "metadata": {
    "papermill": {
     "duration": 0.006133,
     "end_time": "2022-09-01T08:25:55.704841",
     "exception": false,
     "start_time": "2022-09-01T08:25:55.698708",
     "status": "completed"
    },
    "tags": []
   },
   "source": [
    "#  Data Exploration"
   ]
  },
  {
   "cell_type": "code",
   "execution_count": 2,
   "id": "9996f077",
   "metadata": {
    "execution": {
     "iopub.execute_input": "2022-09-01T08:25:55.719473Z",
     "iopub.status.busy": "2022-09-01T08:25:55.718718Z",
     "iopub.status.idle": "2022-09-01T08:25:55.747713Z",
     "shell.execute_reply": "2022-09-01T08:25:55.746857Z"
    },
    "papermill": {
     "duration": 0.038888,
     "end_time": "2022-09-01T08:25:55.749955",
     "exception": false,
     "start_time": "2022-09-01T08:25:55.711067",
     "status": "completed"
    },
    "tags": []
   },
   "outputs": [
    {
     "data": {
      "text/html": [
       "<div>\n",
       "<style scoped>\n",
       "    .dataframe tbody tr th:only-of-type {\n",
       "        vertical-align: middle;\n",
       "    }\n",
       "\n",
       "    .dataframe tbody tr th {\n",
       "        vertical-align: top;\n",
       "    }\n",
       "\n",
       "    .dataframe thead th {\n",
       "        text-align: right;\n",
       "    }\n",
       "</style>\n",
       "<table border=\"1\" class=\"dataframe\">\n",
       "  <thead>\n",
       "    <tr style=\"text-align: right;\">\n",
       "      <th></th>\n",
       "      <th>Prediction(m)</th>\n",
       "      <th>WaterLevel(m)</th>\n",
       "    </tr>\n",
       "  </thead>\n",
       "  <tbody>\n",
       "    <tr>\n",
       "      <th>count</th>\n",
       "      <td>4800.000000</td>\n",
       "      <td>4800.000000</td>\n",
       "    </tr>\n",
       "    <tr>\n",
       "      <th>mean</th>\n",
       "      <td>0.277129</td>\n",
       "      <td>0.471748</td>\n",
       "    </tr>\n",
       "    <tr>\n",
       "      <th>std</th>\n",
       "      <td>0.110719</td>\n",
       "      <td>0.281222</td>\n",
       "    </tr>\n",
       "    <tr>\n",
       "      <th>min</th>\n",
       "      <td>0.066000</td>\n",
       "      <td>-0.832000</td>\n",
       "    </tr>\n",
       "    <tr>\n",
       "      <th>25%</th>\n",
       "      <td>0.189000</td>\n",
       "      <td>0.358000</td>\n",
       "    </tr>\n",
       "    <tr>\n",
       "      <th>50%</th>\n",
       "      <td>0.270000</td>\n",
       "      <td>0.480000</td>\n",
       "    </tr>\n",
       "    <tr>\n",
       "      <th>75%</th>\n",
       "      <td>0.363000</td>\n",
       "      <td>0.603000</td>\n",
       "    </tr>\n",
       "    <tr>\n",
       "      <th>max</th>\n",
       "      <td>0.501000</td>\n",
       "      <td>1.335000</td>\n",
       "    </tr>\n",
       "  </tbody>\n",
       "</table>\n",
       "</div>"
      ],
      "text/plain": [
       "       Prediction(m)  WaterLevel(m)\n",
       "count    4800.000000    4800.000000\n",
       "mean        0.277129       0.471748\n",
       "std         0.110719       0.281222\n",
       "min         0.066000      -0.832000\n",
       "25%         0.189000       0.358000\n",
       "50%         0.270000       0.480000\n",
       "75%         0.363000       0.603000\n",
       "max         0.501000       1.335000"
      ]
     },
     "execution_count": 2,
     "metadata": {},
     "output_type": "execute_result"
    }
   ],
   "source": [
    "df.describe()"
   ]
  },
  {
   "cell_type": "code",
   "execution_count": 3,
   "id": "0ac25689",
   "metadata": {
    "execution": {
     "iopub.execute_input": "2022-09-01T08:25:55.765373Z",
     "iopub.status.busy": "2022-09-01T08:25:55.764776Z",
     "iopub.status.idle": "2022-09-01T08:25:55.776645Z",
     "shell.execute_reply": "2022-09-01T08:25:55.775441Z"
    },
    "papermill": {
     "duration": 0.022689,
     "end_time": "2022-09-01T08:25:55.779203",
     "exception": false,
     "start_time": "2022-09-01T08:25:55.756514",
     "status": "completed"
    },
    "tags": []
   },
   "outputs": [
    {
     "data": {
      "text/html": [
       "<div>\n",
       "<style scoped>\n",
       "    .dataframe tbody tr th:only-of-type {\n",
       "        vertical-align: middle;\n",
       "    }\n",
       "\n",
       "    .dataframe tbody tr th {\n",
       "        vertical-align: top;\n",
       "    }\n",
       "\n",
       "    .dataframe thead th {\n",
       "        text-align: right;\n",
       "    }\n",
       "</style>\n",
       "<table border=\"1\" class=\"dataframe\">\n",
       "  <thead>\n",
       "    <tr style=\"text-align: right;\">\n",
       "      <th></th>\n",
       "      <th>#Date</th>\n",
       "      <th>Time</th>\n",
       "      <th>Prediction(m)</th>\n",
       "      <th>WaterLevel(m)</th>\n",
       "    </tr>\n",
       "  </thead>\n",
       "  <tbody>\n",
       "    <tr>\n",
       "      <th>4795</th>\n",
       "      <td>9/20/17</td>\n",
       "      <td>23:30</td>\n",
       "      <td>0.340</td>\n",
       "      <td>0.512</td>\n",
       "    </tr>\n",
       "    <tr>\n",
       "      <th>4796</th>\n",
       "      <td>9/20/17</td>\n",
       "      <td>23:36</td>\n",
       "      <td>0.334</td>\n",
       "      <td>0.512</td>\n",
       "    </tr>\n",
       "    <tr>\n",
       "      <th>4797</th>\n",
       "      <td>9/20/17</td>\n",
       "      <td>23:42</td>\n",
       "      <td>0.327</td>\n",
       "      <td>0.511</td>\n",
       "    </tr>\n",
       "    <tr>\n",
       "      <th>4798</th>\n",
       "      <td>9/20/17</td>\n",
       "      <td>23:48</td>\n",
       "      <td>0.321</td>\n",
       "      <td>0.507</td>\n",
       "    </tr>\n",
       "    <tr>\n",
       "      <th>4799</th>\n",
       "      <td>9/20/17</td>\n",
       "      <td>23:54</td>\n",
       "      <td>0.314</td>\n",
       "      <td>0.494</td>\n",
       "    </tr>\n",
       "  </tbody>\n",
       "</table>\n",
       "</div>"
      ],
      "text/plain": [
       "        #Date   Time  Prediction(m)  WaterLevel(m)\n",
       "4795  9/20/17  23:30          0.340          0.512\n",
       "4796  9/20/17  23:36          0.334          0.512\n",
       "4797  9/20/17  23:42          0.327          0.511\n",
       "4798  9/20/17  23:48          0.321          0.507\n",
       "4799  9/20/17  23:54          0.314          0.494"
      ]
     },
     "execution_count": 3,
     "metadata": {},
     "output_type": "execute_result"
    }
   ],
   "source": [
    "df.tail()"
   ]
  },
  {
   "cell_type": "code",
   "execution_count": 4,
   "id": "63669e55",
   "metadata": {
    "execution": {
     "iopub.execute_input": "2022-09-01T08:25:55.794540Z",
     "iopub.status.busy": "2022-09-01T08:25:55.794097Z",
     "iopub.status.idle": "2022-09-01T08:25:55.804361Z",
     "shell.execute_reply": "2022-09-01T08:25:55.803281Z"
    },
    "papermill": {
     "duration": 0.020727,
     "end_time": "2022-09-01T08:25:55.806777",
     "exception": false,
     "start_time": "2022-09-01T08:25:55.786050",
     "status": "completed"
    },
    "tags": []
   },
   "outputs": [
    {
     "data": {
      "text/plain": [
       "#Date            0\n",
       "Time             0\n",
       "Prediction(m)    0\n",
       "WaterLevel(m)    0\n",
       "dtype: int64"
      ]
     },
     "execution_count": 4,
     "metadata": {},
     "output_type": "execute_result"
    }
   ],
   "source": [
    "df.isna().sum()"
   ]
  },
  {
   "cell_type": "code",
   "execution_count": 5,
   "id": "d3c2e504",
   "metadata": {
    "execution": {
     "iopub.execute_input": "2022-09-01T08:25:55.822318Z",
     "iopub.status.busy": "2022-09-01T08:25:55.821932Z",
     "iopub.status.idle": "2022-09-01T08:25:55.828787Z",
     "shell.execute_reply": "2022-09-01T08:25:55.828035Z"
    },
    "papermill": {
     "duration": 0.017177,
     "end_time": "2022-09-01T08:25:55.830760",
     "exception": false,
     "start_time": "2022-09-01T08:25:55.813583",
     "status": "completed"
    },
    "tags": []
   },
   "outputs": [
    {
     "data": {
      "text/plain": [
       "#Date             object\n",
       "Time              object\n",
       "Prediction(m)    float64\n",
       "WaterLevel(m)    float64\n",
       "dtype: object"
      ]
     },
     "execution_count": 5,
     "metadata": {},
     "output_type": "execute_result"
    }
   ],
   "source": [
    "df.dtypes"
   ]
  },
  {
   "cell_type": "code",
   "execution_count": 6,
   "id": "2966a2e4",
   "metadata": {
    "execution": {
     "iopub.execute_input": "2022-09-01T08:25:55.847117Z",
     "iopub.status.busy": "2022-09-01T08:25:55.845916Z",
     "iopub.status.idle": "2022-09-01T08:25:55.857873Z",
     "shell.execute_reply": "2022-09-01T08:25:55.856613Z"
    },
    "papermill": {
     "duration": 0.022722,
     "end_time": "2022-09-01T08:25:55.860240",
     "exception": false,
     "start_time": "2022-09-01T08:25:55.837518",
     "status": "completed"
    },
    "tags": []
   },
   "outputs": [
    {
     "data": {
      "text/plain": [
       "#Date              20\n",
       "Time              240\n",
       "Prediction(m)     436\n",
       "WaterLevel(m)    1074\n",
       "dtype: int64"
      ]
     },
     "execution_count": 6,
     "metadata": {},
     "output_type": "execute_result"
    }
   ],
   "source": [
    "df.nunique()"
   ]
  },
  {
   "cell_type": "markdown",
   "id": "7b2b1fc8",
   "metadata": {
    "papermill": {
     "duration": 0.006712,
     "end_time": "2022-09-01T08:25:55.874081",
     "exception": false,
     "start_time": "2022-09-01T08:25:55.867369",
     "status": "completed"
    },
    "tags": []
   },
   "source": [
    "# Data Plots "
   ]
  },
  {
   "cell_type": "code",
   "execution_count": 7,
   "id": "4b398eab",
   "metadata": {
    "execution": {
     "iopub.execute_input": "2022-09-01T08:25:55.889434Z",
     "iopub.status.busy": "2022-09-01T08:25:55.889022Z",
     "iopub.status.idle": "2022-09-01T08:26:05.989701Z",
     "shell.execute_reply": "2022-09-01T08:26:05.988519Z"
    },
    "papermill": {
     "duration": 10.111373,
     "end_time": "2022-09-01T08:26:05.992301",
     "exception": false,
     "start_time": "2022-09-01T08:25:55.880928",
     "status": "completed"
    },
    "tags": []
   },
   "outputs": [
    {
     "data": {
      "image/png": "[encoded data removed]",
      "text/plain": [
       "<Figure size 432x288 with 1 Axes>"
      ]
     },
     "metadata": {
      "needs_background": "light"
     },
     "output_type": "display_data"
    }
   ],
   "source": [
    "x = df['Time']\n",
    "y = df['Prediction(m)']\n",
    "plt.xlabel(\"Time\")\n",
    "plt.ylabel(\"Prediction (m)\")\n",
    "# plt.rcParams[\"figure.figsize\"] = (40,20)\n",
    "plt.bar(x, y)\n",
    "plt.show()"
   ]
  },
  {
   "cell_type": "code",
   "execution_count": 8,
   "id": "835d7537",
   "metadata": {
    "execution": {
     "iopub.execute_input": "2022-09-01T08:26:06.008863Z",
     "iopub.status.busy": "2022-09-01T08:26:06.008447Z",
     "iopub.status.idle": "2022-09-01T08:26:16.376247Z",
     "shell.execute_reply": "2022-09-01T08:26:16.375118Z"
    },
    "papermill": {
     "duration": 10.379211,
     "end_time": "2022-09-01T08:26:16.379053",
     "exception": false,
     "start_time": "2022-09-01T08:26:05.999842",
     "status": "completed"
    },
    "tags": []
   },
   "outputs": [
    {
     "data": {
      "image/png": "[encoded data removed]",
      "text/plain": [
       "<Figure size 432x288 with 1 Axes>"
      ]
     },
     "metadata": {
      "needs_background": "light"
     },
     "output_type": "display_data"
    }
   ],
   "source": [
    "x = df['Time']\n",
    "y = df['WaterLevel(m)']\n",
    "plt.xlabel(\"Time\")\n",
    "plt.ylabel(\"Observation (m)\")\n",
    "plt.bar(x, y)\n",
    "plt.show()"
   ]
  },
  {
   "cell_type": "code",
   "execution_count": 9,
   "id": "08bb95c8",
   "metadata": {
    "execution": {
     "iopub.execute_input": "2022-09-01T08:26:16.397404Z",
     "iopub.status.busy": "2022-09-01T08:26:16.396997Z",
     "iopub.status.idle": "2022-09-01T08:26:16.405924Z",
     "shell.execute_reply": "2022-09-01T08:26:16.404519Z"
    },
    "papermill": {
     "duration": 0.021806,
     "end_time": "2022-09-01T08:26:16.408715",
     "exception": false,
     "start_time": "2022-09-01T08:26:16.386909",
     "status": "completed"
    },
    "tags": []
   },
   "outputs": [],
   "source": [
    "df1 = df.loc[df['WaterLevel(m)'] > 0.400]"
   ]
  },
  {
   "cell_type": "code",
   "execution_count": 10,
   "id": "d108664a",
   "metadata": {
    "execution": {
     "iopub.execute_input": "2022-09-01T08:26:16.425697Z",
     "iopub.status.busy": "2022-09-01T08:26:16.425281Z",
     "iopub.status.idle": "2022-09-01T08:26:16.442367Z",
     "shell.execute_reply": "2022-09-01T08:26:16.441411Z"
    },
    "papermill": {
     "duration": 0.02809,
     "end_time": "2022-09-01T08:26:16.444395",
     "exception": false,
     "start_time": "2022-09-01T08:26:16.416305",
     "status": "completed"
    },
    "tags": []
   },
   "outputs": [
    {
     "data": {
      "text/html": [
       "<div>\n",
       "<style scoped>\n",
       "    .dataframe tbody tr th:only-of-type {\n",
       "        vertical-align: middle;\n",
       "    }\n",
       "\n",
       "    .dataframe tbody tr th {\n",
       "        vertical-align: top;\n",
       "    }\n",
       "\n",
       "    .dataframe thead th {\n",
       "        text-align: right;\n",
       "    }\n",
       "</style>\n",
       "<table border=\"1\" class=\"dataframe\">\n",
       "  <thead>\n",
       "    <tr style=\"text-align: right;\">\n",
       "      <th></th>\n",
       "      <th>#Date</th>\n",
       "      <th>Time</th>\n",
       "      <th>Prediction(m)</th>\n",
       "      <th>WaterLevel(m)</th>\n",
       "    </tr>\n",
       "  </thead>\n",
       "  <tbody>\n",
       "    <tr>\n",
       "      <th>54</th>\n",
       "      <td>9/1/17</td>\n",
       "      <td>5:24</td>\n",
       "      <td>0.276</td>\n",
       "      <td>0.404</td>\n",
       "    </tr>\n",
       "    <tr>\n",
       "      <th>55</th>\n",
       "      <td>9/1/17</td>\n",
       "      <td>5:30</td>\n",
       "      <td>0.279</td>\n",
       "      <td>0.407</td>\n",
       "    </tr>\n",
       "    <tr>\n",
       "      <th>56</th>\n",
       "      <td>9/1/17</td>\n",
       "      <td>5:36</td>\n",
       "      <td>0.281</td>\n",
       "      <td>0.411</td>\n",
       "    </tr>\n",
       "    <tr>\n",
       "      <th>57</th>\n",
       "      <td>9/1/17</td>\n",
       "      <td>5:42</td>\n",
       "      <td>0.282</td>\n",
       "      <td>0.415</td>\n",
       "    </tr>\n",
       "    <tr>\n",
       "      <th>58</th>\n",
       "      <td>9/1/17</td>\n",
       "      <td>5:48</td>\n",
       "      <td>0.284</td>\n",
       "      <td>0.417</td>\n",
       "    </tr>\n",
       "    <tr>\n",
       "      <th>...</th>\n",
       "      <td>...</td>\n",
       "      <td>...</td>\n",
       "      <td>...</td>\n",
       "      <td>...</td>\n",
       "    </tr>\n",
       "    <tr>\n",
       "      <th>4795</th>\n",
       "      <td>9/20/17</td>\n",
       "      <td>23:30</td>\n",
       "      <td>0.340</td>\n",
       "      <td>0.512</td>\n",
       "    </tr>\n",
       "    <tr>\n",
       "      <th>4796</th>\n",
       "      <td>9/20/17</td>\n",
       "      <td>23:36</td>\n",
       "      <td>0.334</td>\n",
       "      <td>0.512</td>\n",
       "    </tr>\n",
       "    <tr>\n",
       "      <th>4797</th>\n",
       "      <td>9/20/17</td>\n",
       "      <td>23:42</td>\n",
       "      <td>0.327</td>\n",
       "      <td>0.511</td>\n",
       "    </tr>\n",
       "    <tr>\n",
       "      <th>4798</th>\n",
       "      <td>9/20/17</td>\n",
       "      <td>23:48</td>\n",
       "      <td>0.321</td>\n",
       "      <td>0.507</td>\n",
       "    </tr>\n",
       "    <tr>\n",
       "      <th>4799</th>\n",
       "      <td>9/20/17</td>\n",
       "      <td>23:54</td>\n",
       "      <td>0.314</td>\n",
       "      <td>0.494</td>\n",
       "    </tr>\n",
       "  </tbody>\n",
       "</table>\n",
       "<p>3221 rows × 4 columns</p>\n",
       "</div>"
      ],
      "text/plain": [
       "        #Date   Time  Prediction(m)  WaterLevel(m)\n",
       "54     9/1/17   5:24          0.276          0.404\n",
       "55     9/1/17   5:30          0.279          0.407\n",
       "56     9/1/17   5:36          0.281          0.411\n",
       "57     9/1/17   5:42          0.282          0.415\n",
       "58     9/1/17   5:48          0.284          0.417\n",
       "...       ...    ...            ...            ...\n",
       "4795  9/20/17  23:30          0.340          0.512\n",
       "4796  9/20/17  23:36          0.334          0.512\n",
       "4797  9/20/17  23:42          0.327          0.511\n",
       "4798  9/20/17  23:48          0.321          0.507\n",
       "4799  9/20/17  23:54          0.314          0.494\n",
       "\n",
       "[3221 rows x 4 columns]"
      ]
     },
     "execution_count": 10,
     "metadata": {},
     "output_type": "execute_result"
    }
   ],
   "source": [
    "df1"
   ]
  },
  {
   "cell_type": "code",
   "execution_count": 11,
   "id": "31343331",
   "metadata": {
    "execution": {
     "iopub.execute_input": "2022-09-01T08:26:16.461778Z",
     "iopub.status.busy": "2022-09-01T08:26:16.461393Z",
     "iopub.status.idle": "2022-09-01T08:26:24.135360Z",
     "shell.execute_reply": "2022-09-01T08:26:24.134212Z"
    },
    "papermill": {
     "duration": 7.68581,
     "end_time": "2022-09-01T08:26:24.137972",
     "exception": false,
     "start_time": "2022-09-01T08:26:16.452162",
     "status": "completed"
    },
    "tags": []
   },
   "outputs": [
    {
     "data": {
      "image/png": "[encoded data removed]",
      "text/plain": [
       "<Figure size 432x288 with 1 Axes>"
      ]
     },
     "metadata": {
      "needs_background": "light"
     },
     "output_type": "display_data"
    }
   ],
   "source": [
    "x = df1['Time']\n",
    "y = df1['WaterLevel(m)']\n",
    "plt.xlabel(\"Time\")\n",
    "plt.ylabel(\"Prediction (m)\")\n",
    "plt.bar(x, y)\n",
    "plt.show()"
   ]
  },
  {
   "cell_type": "code",
   "execution_count": 12,
   "id": "f3d3c4ce",
   "metadata": {
    "execution": {
     "iopub.execute_input": "2022-09-01T08:26:24.156302Z",
     "iopub.status.busy": "2022-09-01T08:26:24.155371Z",
     "iopub.status.idle": "2022-09-01T08:26:24.171264Z",
     "shell.execute_reply": "2022-09-01T08:26:24.170164Z"
    },
    "papermill": {
     "duration": 0.027513,
     "end_time": "2022-09-01T08:26:24.173643",
     "exception": false,
     "start_time": "2022-09-01T08:26:24.146130",
     "status": "completed"
    },
    "tags": []
   },
   "outputs": [
    {
     "data": {
      "text/html": [
       "<div>\n",
       "<style scoped>\n",
       "    .dataframe tbody tr th:only-of-type {\n",
       "        vertical-align: middle;\n",
       "    }\n",
       "\n",
       "    .dataframe tbody tr th {\n",
       "        vertical-align: top;\n",
       "    }\n",
       "\n",
       "    .dataframe thead th {\n",
       "        text-align: right;\n",
       "    }\n",
       "</style>\n",
       "<table border=\"1\" class=\"dataframe\">\n",
       "  <thead>\n",
       "    <tr style=\"text-align: right;\">\n",
       "      <th></th>\n",
       "      <th>#Date</th>\n",
       "      <th>Time</th>\n",
       "      <th>Prediction(m)</th>\n",
       "      <th>WaterLevel(m)</th>\n",
       "    </tr>\n",
       "  </thead>\n",
       "  <tbody>\n",
       "    <tr>\n",
       "      <th>54</th>\n",
       "      <td>9/1/17</td>\n",
       "      <td>5:24</td>\n",
       "      <td>0.276</td>\n",
       "      <td>0.404</td>\n",
       "    </tr>\n",
       "    <tr>\n",
       "      <th>55</th>\n",
       "      <td>9/1/17</td>\n",
       "      <td>5:30</td>\n",
       "      <td>0.279</td>\n",
       "      <td>0.407</td>\n",
       "    </tr>\n",
       "    <tr>\n",
       "      <th>56</th>\n",
       "      <td>9/1/17</td>\n",
       "      <td>5:36</td>\n",
       "      <td>0.281</td>\n",
       "      <td>0.411</td>\n",
       "    </tr>\n",
       "    <tr>\n",
       "      <th>57</th>\n",
       "      <td>9/1/17</td>\n",
       "      <td>5:42</td>\n",
       "      <td>0.282</td>\n",
       "      <td>0.415</td>\n",
       "    </tr>\n",
       "    <tr>\n",
       "      <th>58</th>\n",
       "      <td>9/1/17</td>\n",
       "      <td>5:48</td>\n",
       "      <td>0.284</td>\n",
       "      <td>0.417</td>\n",
       "    </tr>\n",
       "    <tr>\n",
       "      <th>...</th>\n",
       "      <td>...</td>\n",
       "      <td>...</td>\n",
       "      <td>...</td>\n",
       "      <td>...</td>\n",
       "    </tr>\n",
       "    <tr>\n",
       "      <th>4795</th>\n",
       "      <td>9/20/17</td>\n",
       "      <td>23:30</td>\n",
       "      <td>0.340</td>\n",
       "      <td>0.512</td>\n",
       "    </tr>\n",
       "    <tr>\n",
       "      <th>4796</th>\n",
       "      <td>9/20/17</td>\n",
       "      <td>23:36</td>\n",
       "      <td>0.334</td>\n",
       "      <td>0.512</td>\n",
       "    </tr>\n",
       "    <tr>\n",
       "      <th>4797</th>\n",
       "      <td>9/20/17</td>\n",
       "      <td>23:42</td>\n",
       "      <td>0.327</td>\n",
       "      <td>0.511</td>\n",
       "    </tr>\n",
       "    <tr>\n",
       "      <th>4798</th>\n",
       "      <td>9/20/17</td>\n",
       "      <td>23:48</td>\n",
       "      <td>0.321</td>\n",
       "      <td>0.507</td>\n",
       "    </tr>\n",
       "    <tr>\n",
       "      <th>4799</th>\n",
       "      <td>9/20/17</td>\n",
       "      <td>23:54</td>\n",
       "      <td>0.314</td>\n",
       "      <td>0.494</td>\n",
       "    </tr>\n",
       "  </tbody>\n",
       "</table>\n",
       "<p>3221 rows × 4 columns</p>\n",
       "</div>"
      ],
      "text/plain": [
       "        #Date   Time  Prediction(m)  WaterLevel(m)\n",
       "54     9/1/17   5:24          0.276          0.404\n",
       "55     9/1/17   5:30          0.279          0.407\n",
       "56     9/1/17   5:36          0.281          0.411\n",
       "57     9/1/17   5:42          0.282          0.415\n",
       "58     9/1/17   5:48          0.284          0.417\n",
       "...       ...    ...            ...            ...\n",
       "4795  9/20/17  23:30          0.340          0.512\n",
       "4796  9/20/17  23:36          0.334          0.512\n",
       "4797  9/20/17  23:42          0.327          0.511\n",
       "4798  9/20/17  23:48          0.321          0.507\n",
       "4799  9/20/17  23:54          0.314          0.494\n",
       "\n",
       "[3221 rows x 4 columns]"
      ]
     },
     "execution_count": 12,
     "metadata": {},
     "output_type": "execute_result"
    }
   ],
   "source": [
    "df.loc[df['WaterLevel(m)'] > 0.400]"
   ]
  },
  {
   "cell_type": "code",
   "execution_count": null,
   "id": "cdc91d63",
   "metadata": {
    "papermill": {
     "duration": 0.007806,
     "end_time": "2022-09-01T08:26:24.189774",
     "exception": false,
     "start_time": "2022-09-01T08:26:24.181968",
     "status": "completed"
    },
    "tags": []
   },
   "outputs": [],
   "source": []
  },
  {
   "cell_type": "markdown",
   "id": "695cce2b",
   "metadata": {
    "papermill": {
     "duration": 0.00778,
     "end_time": "2022-09-01T08:26:24.205586",
     "exception": false,
     "start_time": "2022-09-01T08:26:24.197806",
     "status": "completed"
    },
    "tags": []
   },
   "source": [
    "# DataSet 2: irma_palm_beach_win"
   ]
  },
  {
   "cell_type": "code",
   "execution_count": 13,
   "id": "7a5004c2",
   "metadata": {
    "execution": {
     "iopub.execute_input": "2022-09-01T08:26:24.223633Z",
     "iopub.status.busy": "2022-09-01T08:26:24.223256Z",
     "iopub.status.idle": "2022-09-01T08:26:24.265274Z",
     "shell.execute_reply": "2022-09-01T08:26:24.264237Z"
    },
    "papermill": {
     "duration": 0.053834,
     "end_time": "2022-09-01T08:26:24.267616",
     "exception": false,
     "start_time": "2022-09-01T08:26:24.213782",
     "status": "completed"
    },
    "tags": []
   },
   "outputs": [
    {
     "data": {
      "text/html": [
       "<div>\n",
       "<style scoped>\n",
       "    .dataframe tbody tr th:only-of-type {\n",
       "        vertical-align: middle;\n",
       "    }\n",
       "\n",
       "    .dataframe tbody tr th {\n",
       "        vertical-align: top;\n",
       "    }\n",
       "\n",
       "    .dataframe thead th {\n",
       "        text-align: right;\n",
       "    }\n",
       "</style>\n",
       "<table border=\"1\" class=\"dataframe\">\n",
       "  <thead>\n",
       "    <tr style=\"text-align: right;\">\n",
       "      <th></th>\n",
       "      <th>#Date</th>\n",
       "      <th>Time</th>\n",
       "      <th>Prediction(m)</th>\n",
       "      <th>Observation(m)</th>\n",
       "    </tr>\n",
       "  </thead>\n",
       "  <tbody>\n",
       "    <tr>\n",
       "      <th>0</th>\n",
       "      <td>9/1/17</td>\n",
       "      <td>0:00</td>\n",
       "      <td>0.525</td>\n",
       "      <td>0.681</td>\n",
       "    </tr>\n",
       "    <tr>\n",
       "      <th>1</th>\n",
       "      <td>9/1/17</td>\n",
       "      <td>0:06</td>\n",
       "      <td>0.511</td>\n",
       "      <td>0.650</td>\n",
       "    </tr>\n",
       "    <tr>\n",
       "      <th>2</th>\n",
       "      <td>9/1/17</td>\n",
       "      <td>0:12</td>\n",
       "      <td>0.496</td>\n",
       "      <td>0.638</td>\n",
       "    </tr>\n",
       "    <tr>\n",
       "      <th>3</th>\n",
       "      <td>9/1/17</td>\n",
       "      <td>0:18</td>\n",
       "      <td>0.481</td>\n",
       "      <td>0.626</td>\n",
       "    </tr>\n",
       "    <tr>\n",
       "      <th>4</th>\n",
       "      <td>9/1/17</td>\n",
       "      <td>0:24</td>\n",
       "      <td>0.466</td>\n",
       "      <td>0.612</td>\n",
       "    </tr>\n",
       "  </tbody>\n",
       "</table>\n",
       "</div>"
      ],
      "text/plain": [
       "    #Date  Time  Prediction(m)  Observation(m)\n",
       "0  9/1/17  0:00          0.525           0.681\n",
       "1  9/1/17  0:06          0.511           0.650\n",
       "2  9/1/17  0:12          0.496           0.638\n",
       "3  9/1/17  0:18          0.481           0.626\n",
       "4  9/1/17  0:24          0.466           0.612"
      ]
     },
     "execution_count": 13,
     "metadata": {},
     "output_type": "execute_result"
    }
   ],
   "source": [
    "# import libraries\n",
    "import pandas as pd\n",
    "import matplotlib.pyplot as plt\n",
    "\n",
    "# import text datafile into pandas dataframe\n",
    "df = pd.read_csv('../input/hurricane-prediction/irma_palm_beach_win.txt', sep=\"\\s+\", engine='python')\n",
    "df.head()"
   ]
  },
  {
   "cell_type": "code",
   "execution_count": 14,
   "id": "54e0e9fe",
   "metadata": {
    "execution": {
     "iopub.execute_input": "2022-09-01T08:26:24.286281Z",
     "iopub.status.busy": "2022-09-01T08:26:24.285907Z",
     "iopub.status.idle": "2022-09-01T08:26:24.304220Z",
     "shell.execute_reply": "2022-09-01T08:26:24.302908Z"
    },
    "papermill": {
     "duration": 0.030947,
     "end_time": "2022-09-01T08:26:24.306870",
     "exception": false,
     "start_time": "2022-09-01T08:26:24.275923",
     "status": "completed"
    },
    "tags": []
   },
   "outputs": [
    {
     "data": {
      "text/html": [
       "<div>\n",
       "<style scoped>\n",
       "    .dataframe tbody tr th:only-of-type {\n",
       "        vertical-align: middle;\n",
       "    }\n",
       "\n",
       "    .dataframe tbody tr th {\n",
       "        vertical-align: top;\n",
       "    }\n",
       "\n",
       "    .dataframe thead th {\n",
       "        text-align: right;\n",
       "    }\n",
       "</style>\n",
       "<table border=\"1\" class=\"dataframe\">\n",
       "  <thead>\n",
       "    <tr style=\"text-align: right;\">\n",
       "      <th></th>\n",
       "      <th>Prediction(m)</th>\n",
       "      <th>Observation(m)</th>\n",
       "    </tr>\n",
       "  </thead>\n",
       "  <tbody>\n",
       "    <tr>\n",
       "      <th>count</th>\n",
       "      <td>4800.000000</td>\n",
       "      <td>4800.000000</td>\n",
       "    </tr>\n",
       "    <tr>\n",
       "      <th>mean</th>\n",
       "      <td>0.533451</td>\n",
       "      <td>0.695313</td>\n",
       "    </tr>\n",
       "    <tr>\n",
       "      <th>std</th>\n",
       "      <td>0.320318</td>\n",
       "      <td>0.337837</td>\n",
       "    </tr>\n",
       "    <tr>\n",
       "      <th>min</th>\n",
       "      <td>0.008000</td>\n",
       "      <td>0.041000</td>\n",
       "    </tr>\n",
       "    <tr>\n",
       "      <th>25%</th>\n",
       "      <td>0.234000</td>\n",
       "      <td>0.386750</td>\n",
       "    </tr>\n",
       "    <tr>\n",
       "      <th>50%</th>\n",
       "      <td>0.532000</td>\n",
       "      <td>0.697000</td>\n",
       "    </tr>\n",
       "    <tr>\n",
       "      <th>75%</th>\n",
       "      <td>0.831250</td>\n",
       "      <td>0.985000</td>\n",
       "    </tr>\n",
       "    <tr>\n",
       "      <th>max</th>\n",
       "      <td>1.089000</td>\n",
       "      <td>1.535000</td>\n",
       "    </tr>\n",
       "  </tbody>\n",
       "</table>\n",
       "</div>"
      ],
      "text/plain": [
       "       Prediction(m)  Observation(m)\n",
       "count    4800.000000     4800.000000\n",
       "mean        0.533451        0.695313\n",
       "std         0.320318        0.337837\n",
       "min         0.008000        0.041000\n",
       "25%         0.234000        0.386750\n",
       "50%         0.532000        0.697000\n",
       "75%         0.831250        0.985000\n",
       "max         1.089000        1.535000"
      ]
     },
     "execution_count": 14,
     "metadata": {},
     "output_type": "execute_result"
    }
   ],
   "source": [
    "df.describe()"
   ]
  },
  {
   "cell_type": "code",
   "execution_count": 15,
   "id": "b613eb3b",
   "metadata": {
    "execution": {
     "iopub.execute_input": "2022-09-01T08:26:24.325581Z",
     "iopub.status.busy": "2022-09-01T08:26:24.325188Z",
     "iopub.status.idle": "2022-09-01T08:26:24.337557Z",
     "shell.execute_reply": "2022-09-01T08:26:24.336201Z"
    },
    "papermill": {
     "duration": 0.024456,
     "end_time": "2022-09-01T08:26:24.339955",
     "exception": false,
     "start_time": "2022-09-01T08:26:24.315499",
     "status": "completed"
    },
    "tags": []
   },
   "outputs": [
    {
     "data": {
      "text/html": [
       "<div>\n",
       "<style scoped>\n",
       "    .dataframe tbody tr th:only-of-type {\n",
       "        vertical-align: middle;\n",
       "    }\n",
       "\n",
       "    .dataframe tbody tr th {\n",
       "        vertical-align: top;\n",
       "    }\n",
       "\n",
       "    .dataframe thead th {\n",
       "        text-align: right;\n",
       "    }\n",
       "</style>\n",
       "<table border=\"1\" class=\"dataframe\">\n",
       "  <thead>\n",
       "    <tr style=\"text-align: right;\">\n",
       "      <th></th>\n",
       "      <th>#Date</th>\n",
       "      <th>Time</th>\n",
       "      <th>Prediction(m)</th>\n",
       "      <th>Observation(m)</th>\n",
       "    </tr>\n",
       "  </thead>\n",
       "  <tbody>\n",
       "    <tr>\n",
       "      <th>4795</th>\n",
       "      <td>9/20/17</td>\n",
       "      <td>23:30</td>\n",
       "      <td>0.911</td>\n",
       "      <td>0.987</td>\n",
       "    </tr>\n",
       "    <tr>\n",
       "      <th>4796</th>\n",
       "      <td>9/20/17</td>\n",
       "      <td>23:36</td>\n",
       "      <td>0.928</td>\n",
       "      <td>1.015</td>\n",
       "    </tr>\n",
       "    <tr>\n",
       "      <th>4797</th>\n",
       "      <td>9/20/17</td>\n",
       "      <td>23:42</td>\n",
       "      <td>0.945</td>\n",
       "      <td>1.052</td>\n",
       "    </tr>\n",
       "    <tr>\n",
       "      <th>4798</th>\n",
       "      <td>9/20/17</td>\n",
       "      <td>23:48</td>\n",
       "      <td>0.961</td>\n",
       "      <td>1.043</td>\n",
       "    </tr>\n",
       "    <tr>\n",
       "      <th>4799</th>\n",
       "      <td>9/20/17</td>\n",
       "      <td>23:54</td>\n",
       "      <td>0.976</td>\n",
       "      <td>1.086</td>\n",
       "    </tr>\n",
       "  </tbody>\n",
       "</table>\n",
       "</div>"
      ],
      "text/plain": [
       "        #Date   Time  Prediction(m)  Observation(m)\n",
       "4795  9/20/17  23:30          0.911           0.987\n",
       "4796  9/20/17  23:36          0.928           1.015\n",
       "4797  9/20/17  23:42          0.945           1.052\n",
       "4798  9/20/17  23:48          0.961           1.043\n",
       "4799  9/20/17  23:54          0.976           1.086"
      ]
     },
     "execution_count": 15,
     "metadata": {},
     "output_type": "execute_result"
    }
   ],
   "source": [
    "df.tail()"
   ]
  },
  {
   "cell_type": "code",
   "execution_count": 16,
   "id": "cb855b46",
   "metadata": {
    "execution": {
     "iopub.execute_input": "2022-09-01T08:26:24.359636Z",
     "iopub.status.busy": "2022-09-01T08:26:24.358944Z",
     "iopub.status.idle": "2022-09-01T08:26:24.367925Z",
     "shell.execute_reply": "2022-09-01T08:26:24.366784Z"
    },
    "papermill": {
     "duration": 0.021328,
     "end_time": "2022-09-01T08:26:24.370162",
     "exception": false,
     "start_time": "2022-09-01T08:26:24.348834",
     "status": "completed"
    },
    "tags": []
   },
   "outputs": [
    {
     "data": {
      "text/plain": [
       "#Date             0\n",
       "Time              0\n",
       "Prediction(m)     0\n",
       "Observation(m)    0\n",
       "dtype: int64"
      ]
     },
     "execution_count": 16,
     "metadata": {},
     "output_type": "execute_result"
    }
   ],
   "source": [
    "df.isna().sum()"
   ]
  },
  {
   "cell_type": "code",
   "execution_count": 17,
   "id": "9f6de4d2",
   "metadata": {
    "execution": {
     "iopub.execute_input": "2022-09-01T08:26:24.390203Z",
     "iopub.status.busy": "2022-09-01T08:26:24.389503Z",
     "iopub.status.idle": "2022-09-01T08:26:24.396634Z",
     "shell.execute_reply": "2022-09-01T08:26:24.395892Z"
    },
    "papermill": {
     "duration": 0.019453,
     "end_time": "2022-09-01T08:26:24.398656",
     "exception": false,
     "start_time": "2022-09-01T08:26:24.379203",
     "status": "completed"
    },
    "tags": []
   },
   "outputs": [
    {
     "data": {
      "text/plain": [
       "#Date              object\n",
       "Time               object\n",
       "Prediction(m)     float64\n",
       "Observation(m)    float64\n",
       "dtype: object"
      ]
     },
     "execution_count": 17,
     "metadata": {},
     "output_type": "execute_result"
    }
   ],
   "source": [
    "df.dtypes"
   ]
  },
  {
   "cell_type": "code",
   "execution_count": 18,
   "id": "551fa2a9",
   "metadata": {
    "execution": {
     "iopub.execute_input": "2022-09-01T08:26:24.418379Z",
     "iopub.status.busy": "2022-09-01T08:26:24.417991Z",
     "iopub.status.idle": "2022-09-01T08:26:24.428531Z",
     "shell.execute_reply": "2022-09-01T08:26:24.427597Z"
    },
    "papermill": {
     "duration": 0.023127,
     "end_time": "2022-09-01T08:26:24.430763",
     "exception": false,
     "start_time": "2022-09-01T08:26:24.407636",
     "status": "completed"
    },
    "tags": []
   },
   "outputs": [
    {
     "data": {
      "text/plain": [
       "#Date               20\n",
       "Time               240\n",
       "Prediction(m)     1059\n",
       "Observation(m)    1238\n",
       "dtype: int64"
      ]
     },
     "execution_count": 18,
     "metadata": {},
     "output_type": "execute_result"
    }
   ],
   "source": [
    "df.nunique()"
   ]
  },
  {
   "cell_type": "code",
   "execution_count": 19,
   "id": "1937109b",
   "metadata": {
    "execution": {
     "iopub.execute_input": "2022-09-01T08:26:24.451396Z",
     "iopub.status.busy": "2022-09-01T08:26:24.450414Z",
     "iopub.status.idle": "2022-09-01T08:26:34.741945Z",
     "shell.execute_reply": "2022-09-01T08:26:34.741157Z"
    },
    "papermill": {
     "duration": 10.304161,
     "end_time": "2022-09-01T08:26:34.744118",
     "exception": false,
     "start_time": "2022-09-01T08:26:24.439957",
     "status": "completed"
    },
    "tags": []
   },
   "outputs": [
    {
     "data": {
      "image/png": "[encoded data removed]",
      "text/plain": [
       "<Figure size 432x288 with 1 Axes>"
      ]
     },
     "metadata": {
      "needs_background": "light"
     },
     "output_type": "display_data"
    }
   ],
   "source": [
    "x = df['Time']\n",
    "y = df['Prediction(m)']\n",
    "plt.xlabel(\"Time\")\n",
    "plt.ylabel(\"Prediction (m)\")\n",
    "# plt.rcParams[\"figure.figsize\"] = (40,20)\n",
    "plt.bar(x, y)\n",
    "plt.show()"
   ]
  },
  {
   "cell_type": "code",
   "execution_count": 20,
   "id": "e4426cea",
   "metadata": {
    "execution": {
     "iopub.execute_input": "2022-09-01T08:26:34.765181Z",
     "iopub.status.busy": "2022-09-01T08:26:34.764449Z",
     "iopub.status.idle": "2022-09-01T08:26:45.264966Z",
     "shell.execute_reply": "2022-09-01T08:26:45.263671Z"
    },
    "papermill": {
     "duration": 10.514013,
     "end_time": "2022-09-01T08:26:45.267649",
     "exception": false,
     "start_time": "2022-09-01T08:26:34.753636",
     "status": "completed"
    },
    "tags": []
   },
   "outputs": [
    {
     "data": {
      "image/png": "[encoded data removed]",
      "text/plain": [
       "<Figure size 432x288 with 1 Axes>"
      ]
     },
     "metadata": {
      "needs_background": "light"
     },
     "output_type": "display_data"
    }
   ],
   "source": [
    "x = df['Time']\n",
    "y = df['Observation(m)']\n",
    "plt.xlabel(\"Time\")\n",
    "plt.ylabel(\"Observation (m)\")\n",
    "# plt.rcParams[\"figure.figsize\"] = (40,20)\n",
    "plt.bar(x,y)\n",
    "plt.show()"
   ]
  },
  {
   "cell_type": "code",
   "execution_count": null,
   "id": "9d4436ce",
   "metadata": {
    "papermill": {
     "duration": 0.009342,
     "end_time": "2022-09-01T08:26:45.287561",
     "exception": false,
     "start_time": "2022-09-01T08:26:45.278219",
     "status": "completed"
    },
    "tags": []
   },
   "outputs": [],
   "source": []
  }
 ],
 "metadata": {
  "kernelspec": {
   "display_name": "Python 3",
   "language": "python",
   "name": "python3"
  },
  "language_info": {
   "codemirror_mode": {
    "name": "ipython",
    "version": 3
   },
   "file_extension": ".py",
   "mimetype": "text/x-python",
   "name": "python",
   "nbconvert_exporter": "python",
   "pygments_lexer": "ipython3",
   "version": "3.7.12"
  },
  "papermill": {
   "default_parameters": {},
   "duration": 59.924051,
   "end_time": "2022-09-01T08:26:46.320268",
   "environment_variables": {},
   "exception": null,
   "input_path": "__notebook__.ipynb",
   "output_path": "__notebook__.ipynb",
   "parameters": {},
   "start_time": "2022-09-01T08:25:46.396217",
   "version": "2.3.4"
  }
 },
 "nbformat": 4,
 "nbformat_minor": 5
}
